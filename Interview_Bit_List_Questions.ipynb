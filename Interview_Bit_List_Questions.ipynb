{
 "cells": [
  {
   "cell_type": "code",
   "execution_count": 3,
   "metadata": {},
   "outputs": [
    {
     "name": "stdout",
     "output_type": "stream",
     "text": [
      "[2, 11, 12, 16, 22, 55, 66, 91, 97, 100]\n",
      "The second largest element in the list= 97\n"
     ]
    }
   ],
   "source": [
    "# Write a python program to find the second largest element in the list\n",
    "lst=[11,55,66,91,97,22,100,12,16,2]\n",
    "lst.sort()\n",
    "print(lst)\n",
    "print(\"The second largest element in the list=\", lst[-2])"
   ]
  },
  {
   "cell_type": "code",
   "execution_count": 5,
   "metadata": {},
   "outputs": [
    {
     "name": "stdout",
     "output_type": "stream",
     "text": [
      "Actual List [30, 11, 28, 25, 33, 19]\n",
      "Modified list [19, 11, 28, 25, 33, 30]\n"
     ]
    }
   ],
   "source": [
    "# Interchange the first and the last element in the list\n",
    "lst=[30,11,28,25,33,19]\n",
    "print(\"Actual List\", lst)\n",
    "first=lst[0]\n",
    "last=lst[-1]\n",
    "lst[0]=last\n",
    "lst[-1]=first\n",
    "print(\"Modified list\",lst)"
   ]
  },
  {
   "cell_type": "code",
   "execution_count": 6,
   "metadata": {},
   "outputs": [
    {
     "name": "stdout",
     "output_type": "stream",
     "text": [
      "Cloned list [2, 4, 5, 10, 27, 29, 30]\n"
     ]
    }
   ],
   "source": [
    "# Clonig a list\n",
    "lst=[2,4,5,10,27,29,30]\n",
    "lst1=lst\n",
    "print(\"Cloned list\",lst1)"
   ]
  },
  {
   "cell_type": "code",
   "execution_count": 8,
   "metadata": {},
   "outputs": [
    {
     "name": "stdout",
     "output_type": "stream",
     "text": [
      "The count of the given element 4\n"
     ]
    }
   ],
   "source": [
    "# Count the ocurence of an element in the list\n",
    "lst=[22,45,11,18,22,87,22,22]\n",
    "ele=22\n",
    "print(\"The count of the given element\",lst.count(22))\n"
   ]
  },
  {
   "cell_type": "code",
   "execution_count": 9,
   "metadata": {},
   "outputs": [
    {
     "name": "stdout",
     "output_type": "stream",
     "text": [
      "Product of elements  17053740\n"
     ]
    }
   ],
   "source": [
    "# List of products removing the duplicates \n",
    "lst=[22,45,11,18,22,87,22,22]\n",
    "prod=1\n",
    "# Removal of duplicates - convert the list into set \n",
    "ss=set(lst)\n",
    "lst2=list(ss)\n",
    "for i in lst2:\n",
    "    prod*=i\n",
    "print(\"Product of elements \", prod)"
   ]
  },
  {
   "cell_type": "code",
   "execution_count": 18,
   "metadata": {},
   "outputs": [
    {
     "name": "stdout",
     "output_type": "stream",
     "text": [
      "[1, 3, 4, 5, 6, 67, 8, 12, 22]\n",
      "The count of 1 is= 3\n",
      "The count of 3 is= 7\n",
      "The count of 4 is= 4\n"
     ]
    }
   ],
   "source": [
    "# Extract elements with frequency greater than k\n",
    "lst=[1,1,1,3,3,3,3,3,3,3,5,6,12,22,4,4,4,4,67,8]\n",
    "k=2\n",
    "ss=set(lst)\n",
    "lst2=list(ss)\n",
    "print(lst2)\n",
    "for i in lst2:\n",
    "    if lst.count(i)>k:\n",
    "        print(f'The count of {i} is=',lst.count(i))\n",
    "\n",
    "    "
   ]
  },
  {
   "cell_type": "code",
   "execution_count": 21,
   "metadata": {},
   "outputs": [
    {
     "name": "stdout",
     "output_type": "stream",
     "text": [
      "Modified list [2, 5, 7, 8, 11]\n"
     ]
    }
   ],
   "source": [
    "# Python – Replace index elements with elements in Other List\n",
    "lst1=[1,4,6,7,10]\n",
    "lst2=[2,5,7,8,11]\n",
    "if len(lst1)==len(lst2):\n",
    "    for i in range(len(lst2)):\n",
    "        lst1[i]=lst2[i]\n",
    "print(\"Modified list\",lst1)    "
   ]
  },
  {
   "cell_type": "code",
   "execution_count": 22,
   "metadata": {},
   "outputs": [
    {
     "name": "stdout",
     "output_type": "stream",
     "text": [
      "The count of such elements are= 2\n"
     ]
    }
   ],
   "source": [
    "# Write a Python program to count the number of strings from a given list of strings. The string length is 2 or more and the first and last characters are the same. Go to the editor\n",
    "lst=['abc', 'xyz', 'aba', '1221']\n",
    "c=0\n",
    "for i in range(len(lst)):\n",
    "    n=lst[i]\n",
    "    if (len(n)>=2) and (n[0]==n[-1]):\n",
    "        c+=1\n",
    "print(\"The count of such elements are=\",c)"
   ]
  },
  {
   "cell_type": "code",
   "execution_count": 24,
   "metadata": {},
   "outputs": [
    {
     "name": "stdout",
     "output_type": "stream",
     "text": [
      "[(1, 2, 3), (1, 3, 2), (2, 1, 3), (2, 3, 1), (3, 1, 2), (3, 2, 1)]\n"
     ]
    }
   ],
   "source": [
    "# Write a Python program to generate all permutations of a list in Python.\n",
    "lst=[1,2,3]\n",
    "import itertools \n",
    "print(list(itertools.permutations(lst)))"
   ]
  },
  {
   "cell_type": "code",
   "execution_count": 26,
   "metadata": {},
   "outputs": [
    {
     "name": "stdout",
     "output_type": "stream",
     "text": [
      " ananya\n"
     ]
    }
   ],
   "source": [
    "# Convert the list of characeters into string \n",
    "l=['a','n','a','n','y','a']\n",
    "str=\" \"\n",
    "for i in l:\n",
    "    str+=i\n",
    "print(str)"
   ]
  }
 ],
 "metadata": {
  "kernelspec": {
   "display_name": "Python 3",
   "language": "python",
   "name": "python3"
  },
  "language_info": {
   "codemirror_mode": {
    "name": "ipython",
    "version": 3
   },
   "file_extension": ".py",
   "mimetype": "text/x-python",
   "name": "python",
   "nbconvert_exporter": "python",
   "pygments_lexer": "ipython3",
   "version": "3.7.6"
  }
 },
 "nbformat": 4,
 "nbformat_minor": 4
}
