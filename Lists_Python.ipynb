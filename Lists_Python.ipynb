{
 "cells": [
  {
   "cell_type": "code",
   "execution_count": 2,
   "metadata": {},
   "outputs": [
    {
     "name": "stdout",
     "output_type": "stream",
     "text": [
      "6\n",
      "11\n",
      "22\n",
      "55\n",
      "66\n",
      "33\n",
      "44\n",
      "6\n"
     ]
    }
   ],
   "source": [
    "lst=[1,2,3,4,5]\n",
    "l=[]\n",
    "n=int(input())\n",
    "for i in range(n):\n",
    "    x=int(input())\n",
    "    l.append(x)\n",
    "print(len(l))\n",
    "l[5]=10\n",
    "\n"
   ]
  },
  {
   "cell_type": "code",
   "execution_count": 12,
   "metadata": {},
   "outputs": [
    {
     "name": "stdout",
     "output_type": "stream",
     "text": [
      "Enter the elements in a list3\n",
      "23\n",
      "44\n",
      "56\n",
      "The list [23, 44, 56]\n",
      "The sorted list [23, 44, 56]\n"
     ]
    }
   ],
   "source": [
    "# Write a python program to sort  a given list \n",
    "n=int(input(\"Enter the elements in a list\"))\n",
    "l=[]\n",
    "for i in range(n):\n",
    "    x=int(input())\n",
    "    l.append(x)\n",
    "print(\"The list\",l)\n",
    "l.sort()\n",
    "print(\"The sorted list\", l)"
   ]
  },
  {
   "cell_type": "code",
   "execution_count": 14,
   "metadata": {},
   "outputs": [
    {
     "name": "stdout",
     "output_type": "stream",
     "text": [
      "The minimum element of teh list 1\n"
     ]
    }
   ],
   "source": [
    "l=[22,45,12,99,1]\n",
    "min=l[0]\n",
    "for i in l:\n",
    "    if i<min:\n",
    "        min=i\n",
    "print(\"The minimum element of the list\", min)\n",
    "    "
   ]
  },
  {
   "cell_type": "code",
   "execution_count": 15,
   "metadata": {},
   "outputs": [
    {
     "name": "stdout",
     "output_type": "stream",
     "text": [
      "The sum of element of the list 179\n"
     ]
    }
   ],
   "source": [
    "# Sum of elements of a list\n",
    "l=[22,45,12,99,1]\n",
    "sum=0\n",
    "for i in l:\n",
    "    sum+=i\n",
    "print(\"The sum of element of the list\", sum)"
   ]
  },
  {
   "cell_type": "code",
   "execution_count": 22,
   "metadata": {},
   "outputs": [
    {
     "name": "stdout",
     "output_type": "stream",
     "text": [
      "Enter the number of elements in a list20\n",
      "The prime elements of a list are= [2, 3, 5, 7, 11, 13, 17, 19]\n"
     ]
    }
   ],
   "source": [
    "# Create a list of N prime numbers \n",
    "n=int(input(\"Enter the number of elements in a list\"))\n",
    "lst=[]\n",
    "for i in range(2,n+1):\n",
    "    for j in range(2,i):\n",
    "        if(i%j==0):\n",
    "            break\n",
    "    else:\n",
    "        lst.append(i)\n",
    "print(\"The prime elements of a list are=\",lst)"
   ]
  },
  {
   "cell_type": "code",
   "execution_count": 20,
   "metadata": {},
   "outputs": [
    {
     "name": "stdout",
     "output_type": "stream",
     "text": [
      "Enter the numbers in a list5\n",
      "The elements of a list are [0, 1, 4, 9, 16]\n"
     ]
    }
   ],
   "source": [
    "# List of squares of first N natural Numbers \n",
    "n=int(input(\"Enter the numbers in a list\"))\n",
    "lst=[]\n",
    "for i in range(n):\n",
    "    lst.append(i**2)    \n",
    "print(\"The elements of a list are\", lst)"
   ]
  },
  {
   "cell_type": "code",
   "execution_count": 24,
   "metadata": {},
   "outputs": [
    {
     "name": "stdout",
     "output_type": "stream",
     "text": [
      "20\n",
      "21\n",
      "44\n",
      "55\n",
      "47\n",
      "28\n",
      "11\n",
      "90\n",
      "88\n",
      "91\n",
      "The given list [20, 21, 44, 55, 47, 28, 11, 90, 88, 91]\n",
      "20 0\n",
      "21 1\n",
      "44 2\n",
      "55 3\n",
      "47 4\n",
      "28 5\n",
      "11 6\n",
      "90 7\n",
      "88 8\n",
      "91 9\n"
     ]
    }
   ],
   "source": [
    "# Occurence of the elements of a given list \n",
    "lst=[]\n",
    "for i in range(10):\n",
    "    n=int(input())\n",
    "    lst.append(n)\n",
    "print(\"The given list\",lst)\n",
    "for c,ele in enumerate(lst):\n",
    "    print(ele,c)\n"
   ]
  },
  {
   "cell_type": "code",
   "execution_count": 27,
   "metadata": {},
   "outputs": [
    {
     "name": "stdout",
     "output_type": "stream",
     "text": [
      "22\n",
      "11\n",
      "22\n",
      "55\n",
      "34\n",
      "The list [22, 11, 22, 55, 34]\n",
      "Distinct list [34, 11, 22, 55]\n",
      "34 0\n",
      "11 1\n",
      "22 2\n",
      "55 3\n"
     ]
    }
   ],
   "source": [
    "# Print distinct elements in a list along with their frequency \n",
    "lst=[]\n",
    "for i in range(5):\n",
    "    n=int(input())\n",
    "    lst.append(n)\n",
    "print(\"The list\", lst)\n",
    "st=set(lst)\n",
    "lst2=list(st)\n",
    "print(\"Distinct list\", lst2)\n",
    "for c,ele in enumerate(lst2):\n",
    "    print(ele,c)\n",
    "    \n"
   ]
  },
  {
   "cell_type": "code",
   "execution_count": 28,
   "metadata": {},
   "outputs": [
    {
     "name": "stdout",
     "output_type": "stream",
     "text": [
      "23\n",
      "44\n",
      "16\n",
      "71\n",
      "90\n",
      "The list [23, 44, 16, 71, 90]\n",
      "The sum of even numbers 150\n",
      "The sum of odd numbers 94\n"
     ]
    }
   ],
   "source": [
    "# Print the sum of all even and all odd numbers \n",
    "lst=[]\n",
    "sumo=0\n",
    "sume=0\n",
    "for i in range(5):\n",
    "    n=int(input())\n",
    "    lst.append(n)\n",
    "print(\"The list\", lst)\n",
    "for i in lst:\n",
    "    if i%2==0:\n",
    "        sume+=i\n",
    "    else:\n",
    "        sumo+=i\n",
    "print(\"The sum of even numbers\",sume)\n",
    "print(\"The sum of odd numbers\",sumo)\n",
    "\n",
    "\n"
   ]
  },
  {
   "cell_type": "code",
   "execution_count": null,
   "metadata": {},
   "outputs": [],
   "source": []
  }
 ],
 "metadata": {
  "kernelspec": {
   "display_name": "Python 3",
   "language": "python",
   "name": "python3"
  },
  "language_info": {
   "codemirror_mode": {
    "name": "ipython",
    "version": 3
   },
   "file_extension": ".py",
   "mimetype": "text/x-python",
   "name": "python",
   "nbconvert_exporter": "python",
   "pygments_lexer": "ipython3",
   "version": "3.7.6"
  }
 },
 "nbformat": 4,
 "nbformat_minor": 4
}
