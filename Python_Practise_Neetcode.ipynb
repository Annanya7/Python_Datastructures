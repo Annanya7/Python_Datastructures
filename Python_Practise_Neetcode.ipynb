{
  "nbformat": 4,
  "nbformat_minor": 0,
  "metadata": {
    "colab": {
      "provenance": []
    },
    "kernelspec": {
      "name": "python3",
      "display_name": "Python 3"
    },
    "language_info": {
      "name": "python"
    }
  },
  "cells": [
    {
      "cell_type": "markdown",
      "source": [
        "Assignment \n"
      ],
      "metadata": {
        "id": "iM2C2i-klV0M"
      }
    },
    {
      "cell_type": "code",
      "source": [
        "n=0\n",
        "print('n=',n)\n",
        "n=n+1\n",
        "n+=1\n",
        "print('n=',n)\n",
        "n,m=0,8\n",
        "print(n,m)\n",
        "n=n+3\n",
        "n ='abc'\n",
        "print(n)\n",
        "n=None \n",
        "print(n)"
      ],
      "metadata": {
        "colab": {
          "base_uri": "https://localhost:8080/"
        },
        "id": "Rg7-VREPlbuR",
        "outputId": "934107dc-0f97-4867-dd7c-a16d8cc74600"
      },
      "execution_count": 2,
      "outputs": [
        {
          "output_type": "stream",
          "name": "stdout",
          "text": [
            "n= 0\n",
            "n= 2\n",
            "0 8\n",
            "abc\n",
            "None\n"
          ]
        }
      ]
    },
    {
      "cell_type": "markdown",
      "source": [
        "Curly Braces "
      ],
      "metadata": {
        "id": "jP-eDwaNmNvX"
      }
    },
    {
      "cell_type": "code",
      "source": [
        "n=1\n",
        "if n>2:\n",
        "  n-=1\n",
        "elif n==2:\n",
        "  n*=2\n",
        "else:\n",
        "  n+=2\n",
        "print(n)"
      ],
      "metadata": {
        "colab": {
          "base_uri": "https://localhost:8080/"
        },
        "id": "jkPwqInXmQyu",
        "outputId": "b5750f09-03b3-4a87-e763-a8f389b868c9"
      },
      "execution_count": 3,
      "outputs": [
        {
          "output_type": "stream",
          "name": "stdout",
          "text": [
            "3\n"
          ]
        }
      ]
    },
    {
      "cell_type": "markdown",
      "source": [
        "multiline condition"
      ],
      "metadata": {
        "id": "liPuBxQSmumP"
      }
    },
    {
      "cell_type": "code",
      "source": [
        "n, m = 1, 2\n",
        "if ((n > 2 and \n",
        "    n != m) or n == m):\n",
        "    n += 1\n",
        "print(n)"
      ],
      "metadata": {
        "colab": {
          "base_uri": "https://localhost:8080/"
        },
        "id": "GUJCL6ZQmwQv",
        "outputId": "d11c70fd-3a67-43c6-8da9-1fe1b8c21921"
      },
      "execution_count": 5,
      "outputs": [
        {
          "output_type": "stream",
          "name": "stdout",
          "text": [
            "1\n"
          ]
        }
      ]
    },
    {
      "cell_type": "markdown",
      "source": [
        "Looping "
      ],
      "metadata": {
        "id": "QBGQxPMb1j3v"
      }
    },
    {
      "cell_type": "code",
      "source": [
        "n=0\n",
        "while n<5:\n",
        "  print(n)\n",
        "  n+=1"
      ],
      "metadata": {
        "colab": {
          "base_uri": "https://localhost:8080/"
        },
        "id": "dAHDKOkl1lEm",
        "outputId": "856f3a8a-018f-40a3-fb46-f4ae1a32a497"
      },
      "execution_count": 6,
      "outputs": [
        {
          "output_type": "stream",
          "name": "stdout",
          "text": [
            "0\n",
            "1\n",
            "2\n",
            "3\n",
            "4\n"
          ]
        }
      ]
    },
    {
      "cell_type": "code",
      "source": [
        "for i in range(0,5):\n",
        "  print(i)"
      ],
      "metadata": {
        "colab": {
          "base_uri": "https://localhost:8080/"
        },
        "id": "rmc3Mz9Z1ren",
        "outputId": "0296a7e2-ffef-4df4-bb54-a654b3f59abc"
      },
      "execution_count": 8,
      "outputs": [
        {
          "output_type": "stream",
          "name": "stdout",
          "text": [
            "0\n",
            "1\n",
            "2\n",
            "3\n",
            "4\n"
          ]
        }
      ]
    },
    {
      "cell_type": "code",
      "source": [
        "for n in range(0,5,2):\n",
        "  print(n)\n",
        "for i in range(5,2,-1):\n",
        "  print(i)"
      ],
      "metadata": {
        "colab": {
          "base_uri": "https://localhost:8080/"
        },
        "id": "Ef5N1QDX1zyC",
        "outputId": "9c88e02b-a546-4dfa-bf07-5242595748bb"
      },
      "execution_count": 12,
      "outputs": [
        {
          "output_type": "stream",
          "name": "stdout",
          "text": [
            "0\n",
            "2\n",
            "4\n",
            "5\n",
            "4\n",
            "3\n"
          ]
        }
      ]
    },
    {
      "cell_type": "code",
      "source": [
        "# Mathematics\n",
        "# Decimal \n",
        "print(5/2)\n",
        "# Integer - rounds down\n",
        "print(5//2)\n",
        "# remainder\n",
        "print(5%2)\n",
        "print(-5/2)\n",
        "print(-3/2)\n",
        "import math \n",
        "print(math.sqrt(16))\n",
        "print(math.ceil(5/2))\n",
        "print(math.floor(5/2))\n",
        "if 100 > float(\"inf\"):\n",
        "  print(\"Hey\")\n",
        "else:\n",
        "  print(\"Bye\")"
      ],
      "metadata": {
        "colab": {
          "base_uri": "https://localhost:8080/"
        },
        "id": "lFyJY9mW4WWz",
        "outputId": "62e782d7-d73f-4acb-e271-1409e650460a"
      },
      "execution_count": 23,
      "outputs": [
        {
          "output_type": "stream",
          "name": "stdout",
          "text": [
            "2.5\n",
            "2\n",
            "1\n",
            "-2.5\n",
            "-1.5\n",
            "4.0\n",
            "3\n",
            "2\n",
            "Bye\n"
          ]
        }
      ]
    },
    {
      "cell_type": "markdown",
      "source": [
        "LISTS :\n",
        "Can be used as a stack with two operations - push and pop\n",
        "\n",
        "\n",
        "*   Push --> append(value) , insert(psoition, value) \n",
        "*   Pop -->  remove(value) , pop(position)\n",
        "*   These are O(n) time complexities \n",
        "*   While --> arr[0]=1 : O(1) time complexity \n",
        "\n"
      ],
      "metadata": {
        "id": "7S2Fxam29VoU"
      }
    },
    {
      "cell_type": "code",
      "source": [
        "lst=[1,2,3]\n",
        "print(lst)\n",
        "\n",
        "# Are dynamic hence can be used as stack so we can push and pop elements out of the list\n",
        "lst.append(4)\n",
        "lst.append(5)\n",
        "print(lst)\n",
        "lst.pop()\n",
        "print(lst)\n",
        "# we can pop - index\n",
        "lst.pop(1)\n",
        "print(lst)\n",
        "# we can remove - value \n",
        "lst.remove(1)\n",
        "print(lst)\n",
        "# insert a value at a specific position\n",
        "lst.insert(0,7)\n",
        "print(lst)"
      ],
      "metadata": {
        "colab": {
          "base_uri": "https://localhost:8080/"
        },
        "id": "e7RIEDuF9Wxu",
        "outputId": "54c72936-8d94-439f-94c5-09a3686330db"
      },
      "execution_count": 5,
      "outputs": [
        {
          "output_type": "stream",
          "name": "stdout",
          "text": [
            "[1, 2, 3]\n",
            "[1, 2, 3, 4, 5]\n",
            "[1, 2, 3, 4]\n",
            "[1, 3, 4]\n",
            "[3, 4]\n",
            "[7, 3, 4]\n"
          ]
        }
      ]
    },
    {
      "cell_type": "markdown",
      "source": [
        "Print an array with 1, 5 times "
      ],
      "metadata": {
        "id": "L9Hz0KxNTFVW"
      }
    },
    {
      "cell_type": "code",
      "source": [
        "n=5\n",
        "arr=[1]*n\n",
        "print(arr)"
      ],
      "metadata": {
        "colab": {
          "base_uri": "https://localhost:8080/"
        },
        "id": "2b3MQfEA4WY7",
        "outputId": "966c0528-4fc7-4d86-ba00-34cec7382baa"
      },
      "execution_count": 6,
      "outputs": [
        {
          "output_type": "stream",
          "name": "stdout",
          "text": [
            "[1, 1, 1, 1, 1]\n"
          ]
        }
      ]
    },
    {
      "cell_type": "markdown",
      "source": [
        "Sublists / Slicing and Unpacking in Python"
      ],
      "metadata": {
        "id": "bR6fpc0KUBIo"
      }
    },
    {
      "cell_type": "code",
      "source": [
        "arr=[1,2,3,4,5]\n",
        "print(arr[1:3])\n",
        "\n",
        "# Unpacking \n",
        "a,b,c=[4,7,9]\n",
        "print(b)\n"
      ],
      "metadata": {
        "colab": {
          "base_uri": "https://localhost:8080/"
        },
        "id": "ZvbwAt7z4WcH",
        "outputId": "5f2c1063-e44a-4254-cd90-c7683f905ac7"
      },
      "execution_count": 8,
      "outputs": [
        {
          "output_type": "stream",
          "name": "stdout",
          "text": [
            "[2, 3]\n",
            "7\n"
          ]
        }
      ]
    },
    {
      "cell_type": "markdown",
      "source": [
        "Looping through the arrays \n",
        "\n",
        "\n",
        "*   With Index : range\n",
        "*   Without Index : in\n",
        "*   Both : enumerate \n",
        "\n",
        "\n",
        "\n"
      ],
      "metadata": {
        "id": "_4GRv5fLUd59"
      }
    },
    {
      "cell_type": "code",
      "source": [
        "# With index \n",
        "arr=[1,2,3,4,5]\n",
        "for i in range(len(arr)):\n",
        "  print(arr[i])\n",
        "for i in arr:\n",
        "  print(i)\n",
        "for i,n in enumerate(arr):\n",
        "  print(i,n)"
      ],
      "metadata": {
        "colab": {
          "base_uri": "https://localhost:8080/"
        },
        "id": "Qygfhx9r4Wd1",
        "outputId": "e0bfe2db-479e-498e-dfa0-9a64c5625ecd"
      },
      "execution_count": 9,
      "outputs": [
        {
          "output_type": "stream",
          "name": "stdout",
          "text": [
            "1\n",
            "2\n",
            "3\n",
            "4\n",
            "5\n",
            "1\n",
            "2\n",
            "3\n",
            "4\n",
            "5\n",
            "0 1\n",
            "1 2\n",
            "2 3\n",
            "3 4\n",
            "4 5\n"
          ]
        }
      ]
    },
    {
      "cell_type": "markdown",
      "source": [
        "Zip function as pairs from rwo lists "
      ],
      "metadata": {
        "id": "b2PhDiK0WIX1"
      }
    },
    {
      "cell_type": "code",
      "source": [
        "# Multiple arays \n",
        "lst1=[1,2,3]\n",
        "lst2=[4,5,6]\n",
        "for n1, n2 in zip(lst1,lst2):\n",
        "  print(n1,n2)"
      ],
      "metadata": {
        "colab": {
          "base_uri": "https://localhost:8080/"
        },
        "id": "--C-4E6VWFtc",
        "outputId": "308a6d24-e72a-48fc-be0b-a18e099a1c69"
      },
      "execution_count": 12,
      "outputs": [
        {
          "output_type": "stream",
          "name": "stdout",
          "text": [
            "1 4\n",
            "2 5\n",
            "3 6\n"
          ]
        }
      ]
    },
    {
      "cell_type": "markdown",
      "source": [
        "Reverse "
      ],
      "metadata": {
        "id": "s9b-LBuqWrTx"
      }
    },
    {
      "cell_type": "code",
      "source": [
        "lst=[1,2,3]\n",
        "lst.reverse()\n",
        "print(lst)"
      ],
      "metadata": {
        "colab": {
          "base_uri": "https://localhost:8080/"
        },
        "id": "nwMmpNgeWglK",
        "outputId": "85197fb9-0222-4a5a-a67c-a7aed59a7308"
      },
      "execution_count": 14,
      "outputs": [
        {
          "output_type": "stream",
          "name": "stdout",
          "text": [
            "[3, 2, 1]\n"
          ]
        }
      ]
    },
    {
      "cell_type": "markdown",
      "source": [
        "Sort- default by ascending order else - false "
      ],
      "metadata": {
        "id": "oIziKOyuWx-f"
      }
    },
    {
      "cell_type": "code",
      "source": [
        "lst=[10,3,4,77,9]\n",
        "lst.sort()\n",
        "print(lst)\n",
        "lst.sort(reverse=True)\n"
      ],
      "metadata": {
        "colab": {
          "base_uri": "https://localhost:8080/"
        },
        "id": "yMVkRaYhWzw8",
        "outputId": "ba2b79b8-4147-47eb-b6e0-c3055543507d"
      },
      "execution_count": 18,
      "outputs": [
        {
          "output_type": "stream",
          "name": "stdout",
          "text": [
            "[3, 4, 9, 10, 77]\n",
            "['bob', 'alice', 'jane', 'doe']\n"
          ]
        }
      ]
    },
    {
      "cell_type": "code",
      "source": [
        "# Using the key value - lamda function\n",
        "arr = [\"bob\", \"alice\", \"jane\", \"doe\"]\n",
        "arr.sort(key=lambda x: len(x))\n",
        "print(arr)"
      ],
      "metadata": {
        "colab": {
          "base_uri": "https://localhost:8080/"
        },
        "id": "0merK0MYXrHw",
        "outputId": "12eaaf52-69ab-49db-f7b4-b655cbb1d00b"
      },
      "execution_count": 20,
      "outputs": [
        {
          "output_type": "stream",
          "name": "stdout",
          "text": [
            "['bob', 'alice', 'jane', 'doe']\n",
            "['bob', 'doe', 'jane', 'alice']\n"
          ]
        }
      ]
    }
  ]
}